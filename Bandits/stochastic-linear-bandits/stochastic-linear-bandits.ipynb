{
 "cells": [
  {
   "cell_type": "code",
   "execution_count": 1,
   "id": "fdc1f5ec",
   "metadata": {},
   "outputs": [],
   "source": [
    "# libraries to import\n",
    "import numpy as np\n",
    "import matplotlib.pyplot as plt"
   ]
  },
  {
   "cell_type": "markdown",
   "id": "4f1e291d",
   "metadata": {},
   "source": [
    "# Stochastic Linear Bandits\n",
    "\n",
    "### This is how the algorithm works :"
   ]
  },
  {
   "cell_type": "markdown",
   "id": "9ee5fa93",
   "metadata": {},
   "source": []
  },
  {
   "cell_type": "markdown",
   "id": "abf42464",
   "metadata": {},
   "source": [
    "### Steps of the algorithm"
   ]
  },
  {
   "cell_type": "code",
   "execution_count": 16,
   "id": "44f140c9",
   "metadata": {},
   "outputs": [],
   "source": [
    "# values we know prior to running the algorithm\n",
    "n_arms = 10\n",
    "n_features = 5\n",
    "true_theta = np.random.rand(n_features)\n",
    "item_features = np.random.rand(n_arms, dim_feature_vector)\n",
    "n_rounds = 100\n",
    "noise = 1.0\n",
    "\n",
    "# confidence parameter\n",
    "alpha = 1.0\n",
    "\n",
    "# --------- Start of the algorithm LinUCB -----------\n",
    "\n",
    "def linUCB_algorithm(n_arms, n_features, item_features, true_theta, n_rounds, noise, lambda_param):\n",
    "    \n",
    "\n",
    "    # feature matrix\n",
    "    # A[i, j] represents the sum of the produc of the ith and jth feature components across all observed data points\n",
    "    # A[i, i] reprensents the sum of the squared ith feature components\n",
    "    A = np.zeros((n_features, n_features))\n",
    "\n",
    "    # label vector\n",
    "    # represents the sum of the product of the observed rewards with \n",
    "    # each feature component across all observed data points.\n",
    "    b = np.zeros((n_features, 1))\n",
    "\n",
    "\n",
    "    # A and b are updated each round\n",
    "\n",
    "\n",
    "    # for stats\n",
    "    actions = np.zeros(n_rounds)\n",
    "    rewards = np.zeros(n_arms)\n",
    "\n",
    "    for t in range(n_rounds):\n",
    "\n",
    "        # contains the highest reward for each arm with a theta that lies in the ellipsoid\n",
    "        ucb_theta_hat = np.zeros((n_arms, n_features))\n",
    "        ucb_arms = np.zeros(n_arms)\n",
    "\n",
    "        # calculate best ucb for each arm\n",
    "        # Question 1 : I don't understand how to put the equation of the book inside this\n",
    "        for i in range(n_arms):\n",
    "            # finds the best theta\n",
    "            \n",
    "            A = item_features[i, :].T @ item_features[i, :] + lambda_param * np.identity(n_features)\n",
    "            b = item_features[i, :].T @ rewards\n",
    "            \n",
    "            ucb_theta_hat[i] = np.linalg.lstsq(A, b)\n",
    "            \n",
    "            ucb_arms[i] = ucb_theta_hat[i, :] @ item_features[i, :].T + noise # the noise doesn't change over time\n",
    "\n",
    "        # select arm which gives highest reward\n",
    "        action_t = np.argmax(ucb_arms)\n",
    "        actions[t] = action_t\n",
    "\n",
    "        # observe reward for the chosen action and update A and b\n",
    "        # Question 2 : maybe i think we are supposed to \"shrink\" the ellipsoid here\n",
    "        A = A # todo\n",
    "        b = b # todo\n",
    "        \n",
    "    return actions, rewards\n",
    "       "
   ]
  },
  {
   "cell_type": "code",
   "execution_count": null,
   "id": "2b717a09",
   "metadata": {},
   "outputs": [],
   "source": []
  },
  {
   "cell_type": "code",
   "execution_count": null,
   "id": "9986fb6b",
   "metadata": {},
   "outputs": [],
   "source": []
  },
  {
   "cell_type": "code",
   "execution_count": null,
   "id": "835b535f",
   "metadata": {},
   "outputs": [],
   "source": [
    "# I will wrap everything in a class when I get a working algorithm\n",
    "\n",
    "# class UCB_linear_bandit:\n",
    "#     def __init__(self, true_theta, item_features, num_rounds, noise):\n",
    "#         self.true_theta = true_theta\n",
    "#         self.item_features = item_features\n",
    "#         self.num_rounds = num_rounds\n",
    "#         self.noise = noise\n",
    "        \n",
    "#         self.actions = np.zeros(num_rounds)\n",
    "#         self.regrets = np.zeros(num_rounds)"
   ]
  },
  {
   "cell_type": "code",
   "execution_count": null,
   "id": "6a9db87c",
   "metadata": {},
   "outputs": [],
   "source": []
  },
  {
   "cell_type": "code",
   "execution_count": null,
   "id": "d1563c6e",
   "metadata": {},
   "outputs": [],
   "source": []
  },
  {
   "cell_type": "code",
   "execution_count": null,
   "id": "096c3d57",
   "metadata": {},
   "outputs": [],
   "source": []
  },
  {
   "cell_type": "code",
   "execution_count": null,
   "id": "46523200",
   "metadata": {},
   "outputs": [],
   "source": []
  }
 ],
 "metadata": {
  "kernelspec": {
   "display_name": "Python 3",
   "language": "python",
   "name": "python3"
  },
  "language_info": {
   "codemirror_mode": {
    "name": "ipython",
    "version": 3
   },
   "file_extension": ".py",
   "mimetype": "text/x-python",
   "name": "python",
   "nbconvert_exporter": "python",
   "pygments_lexer": "ipython3",
   "version": "3.8.10"
  }
 },
 "nbformat": 4,
 "nbformat_minor": 5
}
