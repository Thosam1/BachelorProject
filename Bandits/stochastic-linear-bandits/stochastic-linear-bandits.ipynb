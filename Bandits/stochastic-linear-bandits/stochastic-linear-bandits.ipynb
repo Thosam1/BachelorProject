{
 "cells": [
  {
   "cell_type": "code",
   "execution_count": 1,
   "id": "fdc1f5ec",
   "metadata": {
    "ExecuteTime": {
     "start_time": "2023-04-14T14:58:33.624357Z",
     "end_time": "2023-04-14T14:58:33.890812Z"
    }
   },
   "outputs": [],
   "source": [
    "# libraries to import\n",
    "import numpy as np\n",
    "import matplotlib.pyplot as plt\n",
    "np.random.seed(1)"
   ]
  },
  {
   "cell_type": "markdown",
   "id": "4f1e291d",
   "metadata": {},
   "source": [
    "# Stochastic Linear Bandits\n",
    "\n",
    "# Strategy 1: UCB Algorithm\n",
    "\n",
    "The difference here is that instead of having confidence intervals, we have confidence ellipsoids.\n",
    "\n",
    "The goal of the algorithm is to optimize the selection of actions (arms) in order to maximize the cumulative reward received over a series of rounds.\n",
    "\n",
    "The key idea behind the algorithm is to model the relationship between the observed rewards and the features of each arm using linear regression, and then use the estimated regression coefficients to make informed decisions about which arm to select in each round."
   ]
  },
  {
   "cell_type": "markdown",
   "id": "fdcfdcd4",
   "metadata": {},
   "source": [
    "### Steps of the algorithm\n",
    "\n"
   ]
  },
  {
   "cell_type": "code",
   "execution_count": 64,
   "id": "44f140c9",
   "metadata": {
    "ExecuteTime": {
     "start_time": "2023-04-14T15:23:30.666242Z",
     "end_time": "2023-04-14T15:23:30.667743Z"
    }
   },
   "outputs": [],
   "source": [
    "# --------- Start of the algorithm LinUCB -----------\n",
    "def linUCB_algorithm(n_arms, n_features, item_features, true_theta, n_rounds, noise, lambda_param):\n",
    "    \n",
    "    # Initialize feature matrix.\n",
    "    # V_t[i, j] represents the sum of the product of the ith and jth feature components across all observed data points.\n",
    "    # V_t[i, i] represents the sum of the squared ith feature components.\n",
    "    # Initializing V_0 to lambda * Identity matrix makes it invertible.\n",
    "    V_t = lambda_param * np.eye(n_features)\n",
    "\n",
    "    # Initialize label vector.\n",
    "    # Represents the sum of the product of the observed rewards with each feature component across all observed data points.\n",
    "    sum_A_s_X_s = np.zeros(n_features)\n",
    "    \n",
    "    # Initialize theta_hat matrix, where each column represents the estimate of the true_theta vector at each round.\n",
    "    theta_hat = np.zeros((n_features, n_rounds + 1))\n",
    "    theta_hat[:, 0] = np.random.uniform(low=-1, high=1, size=(n_features, 1)).reshape((n_features,))\n",
    "\n",
    "    # Initialize arrays to store actions, rewards and regrets.\n",
    "    actions = np.zeros(n_rounds + 1, dtype=int)\n",
    "    rewards = np.zeros(n_rounds + 1)\n",
    "    regrets = np.zeros(n_rounds + 1)\n",
    "\n",
    "    for t in range(1, n_rounds + 1):\n",
    "        \n",
    "        # Compute beta parameter for this round using the given formula.\n",
    "        beta_param_t = 1.0 # should increase logarithmically\n",
    "        \n",
    "        # Choose the best action based on the last theta_hat.\n",
    "        max_value = -np.Inf\n",
    "        max_index = -1\n",
    "        for i in range(n_arms):\n",
    "            # Compute the UCB for each arm using the given formula.\n",
    "            estimated_value = theta_hat[:, t-1].T @ item_features[:, i]\n",
    "            penalty_value = np.sqrt(beta_param_t) * np.sqrt(item_features[:, i].T @ (np.linalg.inv(V_t) @ item_features[:, i]))\n",
    "            value = estimated_value + penalty_value\n",
    "            if value >= max_value:\n",
    "                max_value = value\n",
    "                max_index = i\n",
    "\n",
    "        # Update the best action to take for this round.\n",
    "        actions[t] = max_index\n",
    "        \n",
    "        # Observe the reward of the chosen action and add noise.\n",
    "        expected_reward = true_theta.T @ item_features[:, actions[t]]\n",
    "        rewards[t] = expected_reward + np.random.normal(scale=noise) # this might be the reason why we get negative regret\n",
    "\n",
    "        # Regret calculus - to be separated from this method --------\n",
    "        # Compute the regret for this round.\n",
    "        optimal_reward = np.max(item_features.T @ true_theta) # todo put this outside the for loop\n",
    "        # print(\"optimal reward possible : \" + str(optimal_reward) + \" with arm \" + str(np.argmax(item_features.T @ true_theta)))\n",
    "        regret = optimal_reward - expected_reward\n",
    "        # print(\"regret : \" + str(regret))\n",
    "        regrets[t] = regrets[t - 1] + regret\n",
    "        \n",
    "        # Update the feature matrix V_t by adding the outer product of the chosen action's feature vector with itself.\n",
    "        V_t += np.outer(item_features[:, actions[t]], item_features[:, actions[t]])\n",
    "\n",
    "        # Compute the inverse of the updated feature matrix V_t.\n",
    "        V_t_inv = np.linalg.inv(V_t)\n",
    "\n",
    "        # Update the label vector sum_A_s_X_s by adding the outer product of the chosen action's feature vector with the observed reward.\n",
    "        sum_A_s_X_s += item_features[:, actions[t]] * rewards[t]\n",
    "        \n",
    "        # Compute the new estimate of the true_theta vector using the updated feature matrix and label vector.\n",
    "        # This estimate represents the center of the ellipsoid in the feature space.\n",
    "        theta_hat[:, t] = V_t_inv @ sum_A_s_X_s\n",
    "        \n",
    "    return actions, rewards, regrets, theta_hat[:, n_rounds]\n"
   ]
  },
  {
   "cell_type": "code",
   "execution_count": 65,
   "id": "fee05109",
   "metadata": {
    "ExecuteTime": {
     "start_time": "2023-04-14T15:23:31.029314Z",
     "end_time": "2023-04-14T15:23:31.219338Z"
    }
   },
   "outputs": [
    {
     "data": {
      "text/plain": "<Figure size 640x480 with 1 Axes>",
      "image/png": "[encoded data removed]"
     },
     "metadata": {},
     "output_type": "display_data"
    },
    {
     "name": "stdout",
     "output_type": "stream",
     "text": [
      "The true theta is equal to : [[-0.00704452]\n",
      " [ 0.00724613]\n",
      " [ 0.72732266]\n",
      " [ 0.27209262]\n",
      " [-0.44704592]]\n",
      "The theta hat we find at the end is equal to :  [ 0.03938744 -0.10076935  0.84534759  0.30067731 -0.42810604]\n"
     ]
    }
   ],
   "source": [
    "# Setting up parameters for the runs\n",
    "n_arms = 20\n",
    "n_features = 5\n",
    "item_features = np.random.uniform(low=-1, high=1, size=(n_features, n_arms))\n",
    "true_theta = np.random.uniform(low=-1, high=1, size=(n_features, 1))\n",
    "\n",
    "n_rounds = 1000\n",
    "noise = 0.1 # 0.1 -> can lead to negative regret since the reward could be the optimal + some noise\n",
    "lambda_param = 0.5\n",
    "\n",
    "# Running the algorithm\n",
    "actions, rewards, regrets, theta_hat = linUCB_algorithm(n_arms, n_features, item_features, true_theta, n_rounds, noise, lambda_param)\n",
    "\n",
    "# Plotting the regret\n",
    "plt.plot(regrets)\n",
    "plt.xlabel('Round')\n",
    "plt.ylabel('Cumulative Regret')\n",
    "plt.show()\n",
    "\n",
    "# Printing the true theta a\n",
    "print(\"The true theta is equal to : \" + str(true_theta))\n",
    "print(\"The theta hat we find at the end is equal to : \", str(theta_hat))"
   ]
  },
  {
   "cell_type": "code",
   "execution_count": 11,
   "id": "70f3c2f8",
   "metadata": {
    "ExecuteTime": {
     "start_time": "2023-04-14T15:03:37.051000Z",
     "end_time": "2023-04-14T15:03:37.053802Z"
    }
   },
   "outputs": [
    {
     "name": "stdout",
     "output_type": "stream",
     "text": [
      "[[-0.86781442]\n",
      " [-0.05285704]\n",
      " [ 0.96474989]\n",
      " [-0.56917683]\n",
      " [ 0.6991424 ]]\n",
      "[[ 0.70228401 -0.72917991 -0.9483827  -0.51564549 -0.92298944  0.77208918\n",
      "   0.74425408  0.69933812 -0.61581112 -0.82854909  0.05013887  0.27373284\n",
      "  -0.72547333  0.55233037  0.07204522 -0.53578193  0.74120235  0.27049865\n",
      "  -0.77261506  0.42876097]\n",
      " [ 0.09084605  0.97539222 -0.43891874 -0.16718894  0.04738833 -0.7995073\n",
      "  -0.55535811  0.44850417  0.76603576  0.57030719  0.74127144 -0.34431605\n",
      "  -0.47115412  0.78637504 -0.73108753  0.20867553  0.56345788  0.59458064\n",
      "  -0.11231201 -0.02170361]\n",
      " [-0.57605031  0.66094118 -0.30921841  0.88606714 -0.57332963 -0.27602068\n",
      "  -0.81166827 -0.56394916 -0.28108235 -0.6885897   0.20230342 -0.52861209\n",
      "   0.80411333  0.34420484 -0.9667643   0.79291866  0.61094027 -0.19570448\n",
      "  -0.45409473  0.23146287]\n",
      " [-0.65618179  0.34746428  0.06155052 -0.26575155 -0.67574622  0.55256431\n",
      "   0.15776922 -0.63226733  0.23655987  0.12759724 -0.34238922 -0.30789612\n",
      "  -0.32005747  0.98095672 -0.58521869 -0.1810088   0.96752988  0.1012914\n",
      "  -0.50151648 -0.44788229]\n",
      " [-0.18460107  0.08124893  0.70151755 -0.39383881 -0.62049555  0.10891288\n",
      "   0.22027074  0.02208394  0.65809005  0.3719458   0.40627872  0.80623051\n",
      "   0.19826118 -0.72507075  0.83653094  0.90039291 -0.45091286  0.10011234\n",
      "   0.25349663  0.07677074]]\n"
     ]
    }
   ],
   "source": [
    "print(true_theta)\n",
    "print(item_features)"
   ]
  },
  {
   "cell_type": "code",
   "execution_count": 9,
   "id": "7d4c59f1",
   "metadata": {},
   "outputs": [],
   "source": [
    "# I will wrap everything in a class when I get a working algorithm\n",
    "\n",
    "# class UCB_linear_bandit:\n",
    "#     def __init__(self, true_theta, item_features, num_rounds, noise):\n",
    "#         self.true_theta = true_theta\n",
    "#         self.item_features = item_features\n",
    "#         self.num_rounds = num_rounds\n",
    "#         self.noise = noise\n",
    "        \n",
    "#         self.actions = np.zeros(num_rounds)\n",
    "#         self.regrets = np.zeros(num_rounds)"
   ]
  },
  {
   "cell_type": "code",
   "execution_count": 83,
   "id": "8bf4fa97",
   "metadata": {
    "ExecuteTime": {
     "start_time": "2023-04-14T17:14:43.679923Z",
     "end_time": "2023-04-14T17:14:43.686467Z"
    }
   },
   "outputs": [],
   "source": [
    "class LinUCB:\n",
    "    def __init__(self, n_arms, n_features, item_features, n_rounds, lambda_param):\n",
    "        self.n_arms = n_arms\n",
    "        self.n_features = n_features\n",
    "        self.item_features = item_features\n",
    "        self.n_rounds = n_rounds\n",
    "        self.lambda_param = lambda_param\n",
    "\n",
    "        # Initializing variables\n",
    "        self.V_t = lambda_param * np.eye(n_features)\n",
    "        self.sum_A_s_X_s = np.zeros(n_features)\n",
    "        self.theta_hat = np.zeros((n_features, n_rounds + 1))\n",
    "        self.theta_hat[:, 0] = np.random.uniform(low=-1, high=1, size=(n_features, 1)).reshape((n_features,))\n",
    "\n",
    "        self.beta_param_t = 1.0\n",
    "        self.actions = np.zeros(n_rounds + 1, dtype=int)\n",
    "        self.rewards = np.zeros(n_rounds + 1)\n",
    "\n",
    "    # Choose the best action based on the last theta_hat\n",
    "    def choose_action(self, curr_round):\n",
    "        max_value = -np.Inf\n",
    "        max_index = -1\n",
    "        for i in range(self.n_arms):\n",
    "            # Compute the UCB for each arm using the given formula\n",
    "            estimated_value = self.theta_hat[:, curr_round-1].T @ self.item_features[:, i]\n",
    "            penalty_value = np.sqrt(self.beta_param_t) * np.sqrt(self.item_features[:, i].T @ (np.linalg.inv(self.V_t) @ self.item_features[:, i]))\n",
    "            value = estimated_value + penalty_value\n",
    "            if value >= max_value:\n",
    "                max_value = value\n",
    "                max_index = i\n",
    "\n",
    "        # Storing it\n",
    "        self.actions[curr_round] = max_index\n",
    "        return max_index\n",
    "\n",
    "    # Updating variables after receiving the reward from an action\n",
    "    def update(self, curr_round, reward):\n",
    "        self.rewards[curr_round] = reward\n",
    "\n",
    "        # Update the feature matrix V_t by adding the outer product of the chosen action's feature vector with itself.\n",
    "        self.V_t += np.outer(item_features[:, actions[curr_round]], item_features[:, actions[curr_round]])\n",
    "\n",
    "        # Compute the inverse of the updated feature matrix V_t.\n",
    "        V_t_inv = np.linalg.inv(self.V_t)\n",
    "\n",
    "        # Update the label vector sum_A_s_X_s by adding the outer product of the chosen action's feature vector with the observed reward.\n",
    "        self.sum_A_s_X_s += item_features[:, actions[curr_round]] * rewards[curr_round]\n",
    "\n",
    "        # Compute the new estimate of the true_theta vector using the updated feature matrix and label vector.\n",
    "        # This estimate represents the center of the ellipsoid in the feature space.\n",
    "        theta_hat[:, curr_round] = V_t_inv @ self.sum_A_s_X_s\n",
    "\n",
    "class EnvironmentLinUCB:\n",
    "    def __init__(self, n_arms, n_features, item_features, n_rounds, true_theta, noise):\n",
    "        self.n_arms = n_arms\n",
    "        self.n_features = n_features\n",
    "        self.item_features = item_features\n",
    "        self.n_rounds = n_rounds\n",
    "        self.true_theta = true_theta\n",
    "        self.noise = noise\n",
    "\n",
    "        # Initializing variables\n",
    "        self.optimal_reward = np.max(item_features.T @ true_theta)\n",
    "        self.rewards = np.zeros(n_rounds + 1) # rewards with noise\n",
    "        self.regrets = np.zeros(n_rounds + 1)\n",
    "\n",
    "    # Observe the reward of the chosen action and add noise.\n",
    "    def observe_reward(self, action, curr_round):\n",
    "        expected_reward = true_theta.T @ item_features[:, action]\n",
    "        self.rewards[curr_round] = expected_reward + np.random.normal(scale=noise) # this might be the reason why we get negative regret\n",
    "        return self.rewards[curr_round]\n",
    "\n",
    "    def calculate_regret(self, curr_round, expected_reward):\n",
    "        # Compute the regret for this round.\n",
    "        regret = self.optimal_reward - expected_reward\n",
    "\n",
    "        print(self.regrets[curr_round])\n",
    "\n",
    "        # self.regrets[curr_round] = self.regrets[curr_round - 1] + regret\n",
    "\n",
    "    def get_regrets(self):\n",
    "        return self.regrets\n",
    "\n"
   ]
  },
  {
   "cell_type": "code",
   "execution_count": 86,
   "id": "d1563c6e",
   "metadata": {},
   "outputs": [
    {
     "ename": "IndexError",
     "evalue": "only integers, slices (`:`), ellipsis (`...`), numpy.newaxis (`None`) and integer or boolean arrays are valid indices",
     "output_type": "error",
     "traceback": [
      "\u001B[0;31m---------------------------------------------------------------------------\u001B[0m",
      "\u001B[0;31mIndexError\u001B[0m                                Traceback (most recent call last)",
      "Cell \u001B[0;32mIn[86], line 39\u001B[0m\n\u001B[1;32m     36\u001B[0m     plt\u001B[38;5;241m.\u001B[39mylabel(\u001B[38;5;124m'\u001B[39m\u001B[38;5;124mCumulative Regret\u001B[39m\u001B[38;5;124m'\u001B[39m)\n\u001B[1;32m     37\u001B[0m     plt\u001B[38;5;241m.\u001B[39mshow()\n\u001B[0;32m---> 39\u001B[0m \u001B[43mRunLinUCB\u001B[49m\u001B[43m(\u001B[49m\u001B[43mn_arms\u001B[49m\u001B[43m,\u001B[49m\u001B[43m \u001B[49m\u001B[43mn_features\u001B[49m\u001B[43m,\u001B[49m\u001B[43m \u001B[49m\u001B[43mitem_features\u001B[49m\u001B[43m,\u001B[49m\u001B[43m \u001B[49m\u001B[43mn_rounds\u001B[49m\u001B[43m,\u001B[49m\u001B[43m \u001B[49m\u001B[43mtrue_theta\u001B[49m\u001B[43m,\u001B[49m\u001B[43m \u001B[49m\u001B[43mnoise\u001B[49m\u001B[43m,\u001B[49m\u001B[43m \u001B[49m\u001B[43mlambda_param\u001B[49m\u001B[43m)\u001B[49m\n",
      "Cell \u001B[0;32mIn[86], line 26\u001B[0m, in \u001B[0;36mRunLinUCB\u001B[0;34m(n_arms, n_features, item_features, n_rounds, true_theta, noise, lambda_param)\u001B[0m\n\u001B[1;32m     23\u001B[0m reward \u001B[38;5;241m=\u001B[39m environment\u001B[38;5;241m.\u001B[39mobserve_reward(arm_chosen, t)\n\u001B[1;32m     25\u001B[0m \u001B[38;5;66;03m# Compute regret\u001B[39;00m\n\u001B[0;32m---> 26\u001B[0m \u001B[43menvironment\u001B[49m\u001B[38;5;241;43m.\u001B[39;49m\u001B[43mcalculate_regret\u001B[49m\u001B[43m(\u001B[49m\u001B[38;5;28;43mround\u001B[39;49m\u001B[43m,\u001B[49m\u001B[43m \u001B[49m\u001B[43mreward\u001B[49m\u001B[43m)\u001B[49m\n\u001B[1;32m     28\u001B[0m \u001B[38;5;66;03m# Update algorithm values after receiving reward\u001B[39;00m\n\u001B[1;32m     29\u001B[0m linucb\u001B[38;5;241m.\u001B[39mupdate(t, reward)\n",
      "Cell \u001B[0;32mIn[83], line 77\u001B[0m, in \u001B[0;36mEnvironmentLinUCB.calculate_regret\u001B[0;34m(self, curr_round, expected_reward)\u001B[0m\n\u001B[1;32m     73\u001B[0m \u001B[38;5;28;01mdef\u001B[39;00m \u001B[38;5;21mcalculate_regret\u001B[39m(\u001B[38;5;28mself\u001B[39m, curr_round, expected_reward):\n\u001B[1;32m     74\u001B[0m     \u001B[38;5;66;03m# Compute the regret for this round.\u001B[39;00m\n\u001B[1;32m     75\u001B[0m     regret \u001B[38;5;241m=\u001B[39m \u001B[38;5;28mself\u001B[39m\u001B[38;5;241m.\u001B[39moptimal_reward \u001B[38;5;241m-\u001B[39m expected_reward\n\u001B[0;32m---> 77\u001B[0m     \u001B[38;5;28mprint\u001B[39m(\u001B[38;5;28;43mself\u001B[39;49m\u001B[38;5;241;43m.\u001B[39;49m\u001B[43mregrets\u001B[49m\u001B[43m[\u001B[49m\u001B[43mcurr_round\u001B[49m\u001B[43m]\u001B[49m)\n",
      "\u001B[0;31mIndexError\u001B[0m: only integers, slices (`:`), ellipsis (`...`), numpy.newaxis (`None`) and integer or boolean arrays are valid indices"
     ]
    }
   ],
   "source": [
    "n_arms = 5\n",
    "n_features = 10\n",
    "item_features = np.random.randn(n_features, n_arms)\n",
    "true_theta = np.random.uniform(low=-1, high=1, size=(n_features,))\n",
    "n_rounds = 1000\n",
    "noise = 0.1\n",
    "lambda_param = 0.1\n",
    "\n",
    "def RunLinUCB(n_arms, n_features, item_features, n_rounds, true_theta, noise, lambda_param):\n",
    "\n",
    "    # Initializing the LinUCB class\n",
    "    linucb = LinUCB(n_arms, n_features, item_features, n_rounds, lambda_param)\n",
    "\n",
    "    # Initializing the environment\n",
    "    environment = EnvironmentLinUCB(n_arms, n_features, item_features, n_rounds, true_theta, noise)\n",
    "\n",
    "    for t in range(1, n_rounds + 1):\n",
    "\n",
    "        # Picking up the best action based on theta_hat\n",
    "        arm_chosen = linucb.choose_action(t)\n",
    "\n",
    "        # Reward received based on the action taken\n",
    "        reward = environment.observe_reward(arm_chosen, t)\n",
    "\n",
    "        # Compute regret\n",
    "        environment.calculate_regret(round, reward)\n",
    "\n",
    "        # Update algorithm values after receiving reward\n",
    "        linucb.update(t, reward)\n",
    "\n",
    "    regrets = environment.get_regrets()\n",
    "\n",
    "    # Plot the results\n",
    "    plt.plot(regrets)\n",
    "    plt.xlabel('Round')\n",
    "    plt.ylabel('Cumulative Regret')\n",
    "    plt.show()\n",
    "\n",
    "RunLinUCB(n_arms, n_features, item_features, n_rounds, true_theta, noise, lambda_param)"
   ]
  },
  {
   "cell_type": "code",
   "execution_count": 69,
   "id": "096c3d57",
   "metadata": {
    "ExecuteTime": {
     "start_time": "2023-04-14T17:01:00.244976Z",
     "end_time": "2023-04-14T17:01:00.246885Z"
    }
   },
   "outputs": [],
   "source": []
  },
  {
   "cell_type": "code",
   "execution_count": null,
   "id": "46523200",
   "metadata": {},
   "outputs": [],
   "source": []
  }
 ],
 "metadata": {
  "kernelspec": {
   "display_name": "Python 3 (ipykernel)",
   "language": "python",
   "name": "python3"
  },
  "language_info": {
   "codemirror_mode": {
    "name": "ipython",
    "version": 3
   },
   "file_extension": ".py",
   "mimetype": "text/x-python",
   "name": "python",
   "nbconvert_exporter": "python",
   "pygments_lexer": "ipython3",
   "version": "3.9.12"
  }
 },
 "nbformat": 4,
 "nbformat_minor": 5
}
