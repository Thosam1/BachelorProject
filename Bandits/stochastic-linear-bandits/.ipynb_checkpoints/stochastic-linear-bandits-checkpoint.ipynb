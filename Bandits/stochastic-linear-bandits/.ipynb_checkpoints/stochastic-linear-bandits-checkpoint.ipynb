{
 "cells": [
  {
   "cell_type": "code",
   "execution_count": 3,
   "id": "fdc1f5ec",
   "metadata": {
    "ExecuteTime": {
     "end_time": "2023-04-17T13:20:17.886790Z",
     "start_time": "2023-04-17T13:20:17.880903Z"
    }
   },
   "outputs": [],
   "source": [
    "# libraries to import\n",
    "from linear_bandits_algorithms import *\n",
    "import numpy as np"
   ]
  },
  {
   "cell_type": "markdown",
   "id": "4f1e291d",
   "metadata": {},
   "source": [
    "# Stochastic Linear Bandits\n",
    "\n",
    "# Strategy 1: UCB Algorithm\n",
    "\n",
    "The difference here is that instead of having confidence intervals, we have confidence ellipsoids.\n",
    "\n",
    "The goal of the algorithm is to optimize the selection of actions (arms) in order to maximize the cumulative reward received over a series of rounds.\n",
    "\n",
    "The key idea behind the algorithm is to model the relationship between the observed rewards and the features of each arm using linear regression, and then use the estimated regression coefficients to make informed decisions about which arm to select in each round."
   ]
  },
  {
   "cell_type": "markdown",
   "id": "fdcfdcd4",
   "metadata": {},
   "source": [
    "### Steps of the algorithm\n",
    "\n"
   ]
  },
  {
   "cell_type": "markdown",
   "id": "c2a3545b",
   "metadata": {},
   "source": [
    "## Varying the number of items\n",
    "\n",
    "### 10 items"
   ]
  },
  {
   "cell_type": "code",
   "execution_count": 4,
   "id": "f71d1d33",
   "metadata": {
    "ExecuteTime": {
     "end_time": "2023-04-17T13:20:38.438104Z",
     "start_time": "2023-04-17T13:20:38.430704Z"
    }
   },
   "outputs": [],
   "source": [
    "# Setting up parameters for the runs\n",
    "n_arms = 10\n",
    "n_features = 10\n",
    "item_features = np.random.uniform(low=-1, high=1, size=(n_features, n_arms))\n",
    "true_theta = np.random.uniform(low=-1, high=1, size=(n_features, 1))\n",
    "\n",
    "n_rounds = 1000\n",
    "noise = 0.1  # 0.1 -> can lead to negative regret since the reward could be the optimal + some noise\n",
    "lambda_param = 0.5\n",
    "\n",
    "n_simulations = 50"
   ]
  },
  {
   "cell_type": "code",
   "execution_count": 18,
   "id": "c5f364ac",
   "metadata": {
    "ExecuteTime": {
     "end_time": "2023-04-17T13:20:44.834208Z",
     "start_time": "2023-04-17T13:20:39.290099Z"
    }
   },
   "outputs": [
    {
     "ename": "KeyboardInterrupt",
     "evalue": "",
     "output_type": "error",
     "traceback": [
      "\u001b[0;31m---------------------------------------------------------------------------\u001b[0m",
      "\u001b[0;31mKeyboardInterrupt\u001b[0m                         Traceback (most recent call last)",
      "Cell \u001b[0;32mIn[18], line 2\u001b[0m\n\u001b[1;32m      1\u001b[0m \u001b[38;5;66;03m# Running the algorithm\u001b[39;00m\n\u001b[0;32m----> 2\u001b[0m regrets_10_items \u001b[38;5;241m=\u001b[39m \u001b[43mrun_lin_ucb_average\u001b[49m\u001b[43m(\u001b[49m\u001b[43mn_simulations\u001b[49m\u001b[43m,\u001b[49m\u001b[43m \u001b[49m\u001b[43mn_arms\u001b[49m\u001b[43m,\u001b[49m\u001b[43m \u001b[49m\u001b[43mn_features\u001b[49m\u001b[43m,\u001b[49m\u001b[43m \u001b[49m\u001b[43mitem_features\u001b[49m\u001b[43m,\u001b[49m\u001b[43m \u001b[49m\u001b[43mn_rounds\u001b[49m\u001b[43m,\u001b[49m\u001b[43m \u001b[49m\u001b[43mtrue_theta\u001b[49m\u001b[43m,\u001b[49m\u001b[43m \u001b[49m\u001b[43mnoise\u001b[49m\u001b[43m,\u001b[49m\u001b[43m \u001b[49m\u001b[43mlambda_param\u001b[49m\u001b[43m)\u001b[49m\n",
      "File \u001b[0;32m~/Documents/EPFL/BachelorProject/Bandits/stochastic-linear-bandits/linear_bandits_algorithms.py:119\u001b[0m, in \u001b[0;36mrun_lin_ucb_average\u001b[0;34m(n_simulations, n_arms, n_features, item_features, n_rounds, true_theta, noise, lambda_param)\u001b[0m\n\u001b[1;32m    116\u001b[0m total_regrets \u001b[38;5;241m=\u001b[39m np\u001b[38;5;241m.\u001b[39mzeros(n_rounds \u001b[38;5;241m+\u001b[39m \u001b[38;5;241m1\u001b[39m)\n\u001b[1;32m    118\u001b[0m \u001b[38;5;28;01mfor\u001b[39;00m i \u001b[38;5;129;01min\u001b[39;00m \u001b[38;5;28mrange\u001b[39m(n_simulations):\n\u001b[0;32m--> 119\u001b[0m     curr_regret_array \u001b[38;5;241m=\u001b[39m \u001b[43mrun_lin_ucb\u001b[49m\u001b[43m(\u001b[49m\u001b[43mn_arms\u001b[49m\u001b[43m,\u001b[49m\u001b[43m \u001b[49m\u001b[43mn_features\u001b[49m\u001b[43m,\u001b[49m\u001b[43m \u001b[49m\u001b[43mitem_features\u001b[49m\u001b[43m,\u001b[49m\u001b[43m \u001b[49m\u001b[43mn_rounds\u001b[49m\u001b[43m,\u001b[49m\u001b[43m \u001b[49m\u001b[43mtrue_theta\u001b[49m\u001b[43m,\u001b[49m\u001b[43m \u001b[49m\u001b[43mnoise\u001b[49m\u001b[43m,\u001b[49m\u001b[43m \u001b[49m\u001b[43mlambda_param\u001b[49m\u001b[43m)\u001b[49m\n\u001b[1;32m    120\u001b[0m     total_regrets \u001b[38;5;241m+\u001b[39m\u001b[38;5;241m=\u001b[39m curr_regret_array\n\u001b[1;32m    122\u001b[0m avg_regret \u001b[38;5;241m=\u001b[39m total_regrets \u001b[38;5;241m/\u001b[39m n_simulations\n",
      "File \u001b[0;32m~/Documents/EPFL/BachelorProject/Bandits/stochastic-linear-bandits/linear_bandits_algorithms.py:99\u001b[0m, in \u001b[0;36mrun_lin_ucb\u001b[0;34m(n_arms, n_features, item_features, n_rounds, true_theta, noise, lambda_param)\u001b[0m\n\u001b[1;32m     95\u001b[0m environment \u001b[38;5;241m=\u001b[39m EnvironmentLinUCB(n_arms, n_features, item_features, n_rounds, true_theta, noise)\n\u001b[1;32m     97\u001b[0m \u001b[38;5;28;01mfor\u001b[39;00m t \u001b[38;5;129;01min\u001b[39;00m \u001b[38;5;28mrange\u001b[39m(\u001b[38;5;241m1\u001b[39m, n_rounds \u001b[38;5;241m+\u001b[39m \u001b[38;5;241m1\u001b[39m):\n\u001b[1;32m     98\u001b[0m     \u001b[38;5;66;03m# Picking up the best action based on theta_hat\u001b[39;00m\n\u001b[0;32m---> 99\u001b[0m     arm_chosen \u001b[38;5;241m=\u001b[39m \u001b[43mlinucb\u001b[49m\u001b[38;5;241;43m.\u001b[39;49m\u001b[43mchoose_action\u001b[49m\u001b[43m(\u001b[49m\u001b[43mt\u001b[49m\u001b[43m)\u001b[49m\n\u001b[1;32m    101\u001b[0m     \u001b[38;5;66;03m# Reward received based on the action taken\u001b[39;00m\n\u001b[1;32m    102\u001b[0m     expected_reward, reward_with_noise \u001b[38;5;241m=\u001b[39m environment\u001b[38;5;241m.\u001b[39mobserve_reward(t, arm_chosen)\n",
      "File \u001b[0;32m~/Documents/EPFL/BachelorProject/Bandits/stochastic-linear-bandits/linear_bandits_algorithms.py:31\u001b[0m, in \u001b[0;36mLinUCB.choose_action\u001b[0;34m(self, curr_round)\u001b[0m\n\u001b[1;32m     27\u001b[0m \u001b[38;5;28;01mfor\u001b[39;00m i \u001b[38;5;129;01min\u001b[39;00m \u001b[38;5;28mrange\u001b[39m(\u001b[38;5;28mself\u001b[39m\u001b[38;5;241m.\u001b[39mn_arms):\n\u001b[1;32m     28\u001b[0m     \u001b[38;5;66;03m# Compute the UCB for each arm using the given formula\u001b[39;00m\n\u001b[1;32m     29\u001b[0m     estimated_value \u001b[38;5;241m=\u001b[39m \u001b[38;5;28mself\u001b[39m\u001b[38;5;241m.\u001b[39mtheta_hat[:, curr_round \u001b[38;5;241m-\u001b[39m \u001b[38;5;241m1\u001b[39m]\u001b[38;5;241m.\u001b[39mT \u001b[38;5;241m@\u001b[39m \u001b[38;5;28mself\u001b[39m\u001b[38;5;241m.\u001b[39mitem_features[:, i]\n\u001b[1;32m     30\u001b[0m     penalty_value \u001b[38;5;241m=\u001b[39m np\u001b[38;5;241m.\u001b[39msqrt(\u001b[38;5;28mself\u001b[39m\u001b[38;5;241m.\u001b[39mbeta_param_t) \u001b[38;5;241m*\u001b[39m np\u001b[38;5;241m.\u001b[39msqrt(\n\u001b[0;32m---> 31\u001b[0m         \u001b[38;5;28mself\u001b[39m\u001b[38;5;241m.\u001b[39mitem_features[:, i]\u001b[38;5;241m.\u001b[39mT \u001b[38;5;241m@\u001b[39m (\u001b[43mnp\u001b[49m\u001b[38;5;241;43m.\u001b[39;49m\u001b[43mlinalg\u001b[49m\u001b[38;5;241;43m.\u001b[39;49m\u001b[43minv\u001b[49m\u001b[43m(\u001b[49m\u001b[38;5;28;43mself\u001b[39;49m\u001b[38;5;241;43m.\u001b[39;49m\u001b[43mV_t\u001b[49m\u001b[43m)\u001b[49m \u001b[38;5;241m@\u001b[39m \u001b[38;5;28mself\u001b[39m\u001b[38;5;241m.\u001b[39mitem_features[:, i]))\n\u001b[1;32m     32\u001b[0m     value \u001b[38;5;241m=\u001b[39m estimated_value \u001b[38;5;241m+\u001b[39m penalty_value\n\u001b[1;32m     33\u001b[0m     \u001b[38;5;28;01mif\u001b[39;00m value \u001b[38;5;241m>\u001b[39m\u001b[38;5;241m=\u001b[39m max_value:\n",
      "File \u001b[0;32m<__array_function__ internals>:200\u001b[0m, in \u001b[0;36minv\u001b[0;34m(*args, **kwargs)\u001b[0m\n",
      "File \u001b[0;32m/Library/Python/3.9/site-packages/numpy/linalg/linalg.py:538\u001b[0m, in \u001b[0;36minv\u001b[0;34m(a)\u001b[0m\n\u001b[1;32m    536\u001b[0m signature \u001b[38;5;241m=\u001b[39m \u001b[38;5;124m'\u001b[39m\u001b[38;5;124mD->D\u001b[39m\u001b[38;5;124m'\u001b[39m \u001b[38;5;28;01mif\u001b[39;00m isComplexType(t) \u001b[38;5;28;01melse\u001b[39;00m \u001b[38;5;124m'\u001b[39m\u001b[38;5;124md->d\u001b[39m\u001b[38;5;124m'\u001b[39m\n\u001b[1;32m    537\u001b[0m extobj \u001b[38;5;241m=\u001b[39m get_linalg_error_extobj(_raise_linalgerror_singular)\n\u001b[0;32m--> 538\u001b[0m ainv \u001b[38;5;241m=\u001b[39m \u001b[43m_umath_linalg\u001b[49m\u001b[38;5;241;43m.\u001b[39;49m\u001b[43minv\u001b[49m\u001b[43m(\u001b[49m\u001b[43ma\u001b[49m\u001b[43m,\u001b[49m\u001b[43m \u001b[49m\u001b[43msignature\u001b[49m\u001b[38;5;241;43m=\u001b[39;49m\u001b[43msignature\u001b[49m\u001b[43m,\u001b[49m\u001b[43m \u001b[49m\u001b[43mextobj\u001b[49m\u001b[38;5;241;43m=\u001b[39;49m\u001b[43mextobj\u001b[49m\u001b[43m)\u001b[49m\n\u001b[1;32m    539\u001b[0m \u001b[38;5;28;01mreturn\u001b[39;00m wrap(ainv\u001b[38;5;241m.\u001b[39mastype(result_t, copy\u001b[38;5;241m=\u001b[39m\u001b[38;5;28;01mFalse\u001b[39;00m))\n",
      "\u001b[0;31mKeyboardInterrupt\u001b[0m: "
     ]
    }
   ],
   "source": [
    "# Running the algorithm\n",
    "regrets_10_items = run_lin_ucb_average(n_simulations, n_arms, n_features, item_features, n_rounds, true_theta, noise, lambda_param)"
   ]
  },
  {
   "cell_type": "code",
   "execution_count": 6,
   "id": "88a70092",
   "metadata": {
    "ExecuteTime": {
     "end_time": "2023-04-17T13:20:44.939522Z",
     "start_time": "2023-04-17T13:20:44.852703Z"
    }
   },
   "outputs": [
    {
     "data": {
      "image/png": "[encoded data removed]",
      "text/plain": [
       "<Figure size 640x480 with 1 Axes>"
      ]
     },
     "metadata": {},
     "output_type": "display_data"
    }
   ],
   "source": [
    "# Plotting the cumulative regret\n",
    "plot_regret(regrets_10_items)"
   ]
  },
  {
   "cell_type": "markdown",
   "id": "424d5380",
   "metadata": {},
   "source": [
    "### 50 items"
   ]
  },
  {
   "cell_type": "code",
   "execution_count": 7,
   "id": "09ebd30f",
   "metadata": {
    "ExecuteTime": {
     "end_time": "2023-04-17T13:20:57.634563Z",
     "start_time": "2023-04-17T13:20:57.630926Z"
    }
   },
   "outputs": [],
   "source": [
    "# Setting up parameters for the runs\n",
    "n_arms = 50\n",
    "n_features = 10\n",
    "item_features = np.random.uniform(low=-1, high=1, size=(n_features, n_arms))\n",
    "true_theta = np.random.uniform(low=-1, high=1, size=(n_features, 1))\n",
    "\n",
    "n_rounds = 1000\n",
    "noise = 0.1  # 0.1 -> can lead to negative regret since the reward could be the optimal + some noise\n",
    "lambda_param = 0.5\n",
    "\n",
    "n_simulations = 50"
   ]
  },
  {
   "cell_type": "code",
   "execution_count": 8,
   "id": "6283c5a0",
   "metadata": {
    "ExecuteTime": {
     "end_time": "2023-04-17T13:21:24.727703Z",
     "start_time": "2023-04-17T13:20:58.819822Z"
    }
   },
   "outputs": [],
   "source": [
    "# Running the algorithm\n",
    "regrets_50_items = run_lin_ucb_average(n_simulations, n_arms, n_features, item_features, n_rounds, true_theta, noise, lambda_param)"
   ]
  },
  {
   "cell_type": "code",
   "execution_count": 9,
   "id": "8758c0f6",
   "metadata": {
    "ExecuteTime": {
     "end_time": "2023-04-17T13:21:24.828175Z",
     "start_time": "2023-04-17T13:21:24.756112Z"
    }
   },
   "outputs": [
    {
     "data": {
      "image/png": "[encoded data removed]",
      "text/plain": [
       "<Figure size 640x480 with 1 Axes>"
      ]
     },
     "metadata": {},
     "output_type": "display_data"
    }
   ],
   "source": [
    "# Plotting the cumulative regret\n",
    "plot_regret(regrets_50_items)"
   ]
  },
  {
   "cell_type": "markdown",
   "id": "0650125a",
   "metadata": {},
   "source": [
    "### 100 items"
   ]
  },
  {
   "cell_type": "code",
   "execution_count": 10,
   "id": "94cfa781",
   "metadata": {
    "ExecuteTime": {
     "end_time": "2023-04-17T13:22:13.591902Z",
     "start_time": "2023-04-17T13:22:13.581951Z"
    }
   },
   "outputs": [],
   "source": [
    "# Setting up parameters for the runs\n",
    "n_arms = 100\n",
    "n_features = 10\n",
    "item_features = np.random.uniform(low=-1, high=1, size=(n_features, n_arms))\n",
    "true_theta = np.random.uniform(low=-1, high=1, size=(n_features, 1))\n",
    "\n",
    "n_rounds = 1000\n",
    "noise = 0.1  # 0.1 -> can lead to negative regret since the reward could be the optimal + some noise\n",
    "lambda_param = 0.5\n",
    "\n",
    "n_simulations = 50"
   ]
  },
  {
   "cell_type": "code",
   "execution_count": 11,
   "id": "9523a223",
   "metadata": {
    "ExecuteTime": {
     "end_time": "2023-04-17T13:23:04.310059Z",
     "start_time": "2023-04-17T13:22:13.456991Z"
    }
   },
   "outputs": [],
   "source": [
    "# Running the algorithm\n",
    "regrets_100_items = run_lin_ucb_average(n_simulations, n_arms, n_features, item_features, n_rounds, true_theta, noise, lambda_param)"
   ]
  },
  {
   "cell_type": "code",
   "execution_count": 12,
   "id": "4617bed6",
   "metadata": {
    "ExecuteTime": {
     "end_time": "2023-04-17T13:23:04.401323Z",
     "start_time": "2023-04-17T13:22:13.570396Z"
    }
   },
   "outputs": [
    {
     "data": {
      "image/png": "[encoded data removed]",
      "text/plain": [
       "<Figure size 640x480 with 1 Axes>"
      ]
     },
     "metadata": {},
     "output_type": "display_data"
    }
   ],
   "source": [
    "# Plotting the cumulative regret\n",
    "plot_regret(regrets_100_items)"
   ]
  },
  {
   "cell_type": "markdown",
   "id": "d099cfb3",
   "metadata": {},
   "source": [
    "### Varying the number of arms\n",
    "\n",
    "By keeping the number of features the same: 10 features, we see that as the number of arm increases, the cumulative regret converges faster (the logarithmic plot flattens out faster).\n",
    "\n",
    "This leads to a cumulative regret being greater at step 1000 as we increase the number of arms.\n",
    "\n",
    "This phenomenon can be explained by the fact that when there are more arms to chose, we can chose one arm that has is closest to the true feature vector theta. By increasing the number of arms, we increase the likelyhood of finding arms that fits the user the best. Therefore, it is logical that we converge to an estimate faster than with less arms."
   ]
  },
  {
   "cell_type": "markdown",
   "id": "d692d141",
   "metadata": {},
   "source": [
    "## Varying the number of features\n",
    "\n",
    "### 2 features"
   ]
  },
  {
   "cell_type": "code",
   "execution_count": 13,
   "id": "01b22c30",
   "metadata": {
    "ExecuteTime": {
     "end_time": "2023-04-17T13:23:04.415636Z",
     "start_time": "2023-04-17T13:23:04.413547Z"
    }
   },
   "outputs": [],
   "source": [
    "# Setting up parameters for the runs\n",
    "n_arms = 100\n",
    "n_features = 2\n",
    "item_features = np.random.uniform(low=-1, high=1, size=(n_features, n_arms))\n",
    "true_theta = np.random.uniform(low=-1, high=1, size=(n_features, 1))\n",
    "\n",
    "n_rounds = 1000\n",
    "noise = 0.1  # 0.1 -> can lead to negative regret since the reward could be the optimal + some noise\n",
    "lambda_param = 0.5\n",
    "\n",
    "n_simulations = 50"
   ]
  },
  {
   "cell_type": "code",
   "execution_count": 14,
   "id": "fc39f271",
   "metadata": {
    "ExecuteTime": {
     "end_time": "2023-04-17T13:23:15.937640Z",
     "start_time": "2023-04-17T13:23:04.487938Z"
    }
   },
   "outputs": [],
   "source": [
    "# Running the algorithm\n",
    "regrets_2_features = run_lin_ucb_average(n_simulations, n_arms, n_features, item_features, n_rounds, true_theta, noise, lambda_param)"
   ]
  },
  {
   "cell_type": "code",
   "execution_count": 15,
   "id": "2aeb5186",
   "metadata": {
    "ExecuteTime": {
     "end_time": "2023-04-17T13:23:15.999947Z",
     "start_time": "2023-04-17T13:23:15.942606Z"
    }
   },
   "outputs": [
    {
     "data": {
      "image/png": "[encoded data removed]",
      "text/plain": [
       "<Figure size 640x480 with 1 Axes>"
      ]
     },
     "metadata": {},
     "output_type": "display_data"
    }
   ],
   "source": [
    "# Plotting the cumulative regret\n",
    "plot_regret(regrets_2_features)"
   ]
  },
  {
   "cell_type": "markdown",
   "id": "56c1cd29",
   "metadata": {},
   "source": [
    "### 10 features"
   ]
  },
  {
   "cell_type": "code",
   "execution_count": 16,
   "id": "b8a55878",
   "metadata": {
    "ExecuteTime": {
     "end_time": "2023-04-17T13:23:20.421303Z",
     "start_time": "2023-04-17T13:23:20.416785Z"
    }
   },
   "outputs": [],
   "source": [
    "# Setting up parameters for the runs\n",
    "n_arms = 100\n",
    "n_features = 10\n",
    "item_features = np.random.uniform(low=-1, high=1, size=(n_features, n_arms))\n",
    "true_theta = np.random.uniform(low=-1, high=1, size=(n_features, 1))\n",
    "\n",
    "n_rounds = 1000\n",
    "noise = 0.1  # 0.1 -> can lead to negative regret since the reward could be the optimal + some noise\n",
    "lambda_param = 0.5\n",
    "\n",
    "n_simulations = 50"
   ]
  },
  {
   "cell_type": "code",
   "execution_count": 17,
   "id": "cd7397fe",
   "metadata": {
    "ExecuteTime": {
     "end_time": "2023-04-17T13:24:13.154073Z",
     "start_time": "2023-04-17T13:23:20.775881Z"
    }
   },
   "outputs": [
    {
     "ename": "KeyboardInterrupt",
     "evalue": "",
     "output_type": "error",
     "traceback": [
      "\u001b[0;31m---------------------------------------------------------------------------\u001b[0m",
      "\u001b[0;31mKeyboardInterrupt\u001b[0m                         Traceback (most recent call last)",
      "Cell \u001b[0;32mIn[17], line 2\u001b[0m\n\u001b[1;32m      1\u001b[0m \u001b[38;5;66;03m# Running the algorithm\u001b[39;00m\n\u001b[0;32m----> 2\u001b[0m regrets \u001b[38;5;241m=\u001b[39m \u001b[43mrun_lin_ucb_average\u001b[49m\u001b[43m(\u001b[49m\u001b[43mn_simulations\u001b[49m\u001b[43m,\u001b[49m\u001b[43m \u001b[49m\u001b[43mn_arms\u001b[49m\u001b[43m,\u001b[49m\u001b[43m \u001b[49m\u001b[43mn_features\u001b[49m\u001b[43m,\u001b[49m\u001b[43m \u001b[49m\u001b[43mitem_features\u001b[49m\u001b[43m,\u001b[49m\u001b[43m \u001b[49m\u001b[43mn_rounds\u001b[49m\u001b[43m,\u001b[49m\u001b[43m \u001b[49m\u001b[43mtrue_theta\u001b[49m\u001b[43m,\u001b[49m\u001b[43m \u001b[49m\u001b[43mnoise\u001b[49m\u001b[43m,\u001b[49m\u001b[43m \u001b[49m\u001b[43mlambda_param\u001b[49m\u001b[43m)\u001b[49m\n",
      "File \u001b[0;32m~/Documents/EPFL/BachelorProject/Bandits/stochastic-linear-bandits/linear_bandits_algorithms.py:119\u001b[0m, in \u001b[0;36mrun_lin_ucb_average\u001b[0;34m(n_simulations, n_arms, n_features, item_features, n_rounds, true_theta, noise, lambda_param)\u001b[0m\n\u001b[1;32m    116\u001b[0m total_regrets \u001b[38;5;241m=\u001b[39m np\u001b[38;5;241m.\u001b[39mzeros(n_rounds \u001b[38;5;241m+\u001b[39m \u001b[38;5;241m1\u001b[39m)\n\u001b[1;32m    118\u001b[0m \u001b[38;5;28;01mfor\u001b[39;00m i \u001b[38;5;129;01min\u001b[39;00m \u001b[38;5;28mrange\u001b[39m(n_simulations):\n\u001b[0;32m--> 119\u001b[0m     curr_regret_array \u001b[38;5;241m=\u001b[39m \u001b[43mrun_lin_ucb\u001b[49m\u001b[43m(\u001b[49m\u001b[43mn_arms\u001b[49m\u001b[43m,\u001b[49m\u001b[43m \u001b[49m\u001b[43mn_features\u001b[49m\u001b[43m,\u001b[49m\u001b[43m \u001b[49m\u001b[43mitem_features\u001b[49m\u001b[43m,\u001b[49m\u001b[43m \u001b[49m\u001b[43mn_rounds\u001b[49m\u001b[43m,\u001b[49m\u001b[43m \u001b[49m\u001b[43mtrue_theta\u001b[49m\u001b[43m,\u001b[49m\u001b[43m \u001b[49m\u001b[43mnoise\u001b[49m\u001b[43m,\u001b[49m\u001b[43m \u001b[49m\u001b[43mlambda_param\u001b[49m\u001b[43m)\u001b[49m\n\u001b[1;32m    120\u001b[0m     total_regrets \u001b[38;5;241m+\u001b[39m\u001b[38;5;241m=\u001b[39m curr_regret_array\n\u001b[1;32m    122\u001b[0m avg_regret \u001b[38;5;241m=\u001b[39m total_regrets \u001b[38;5;241m/\u001b[39m n_simulations\n",
      "File \u001b[0;32m~/Documents/EPFL/BachelorProject/Bandits/stochastic-linear-bandits/linear_bandits_algorithms.py:99\u001b[0m, in \u001b[0;36mrun_lin_ucb\u001b[0;34m(n_arms, n_features, item_features, n_rounds, true_theta, noise, lambda_param)\u001b[0m\n\u001b[1;32m     95\u001b[0m environment \u001b[38;5;241m=\u001b[39m EnvironmentLinUCB(n_arms, n_features, item_features, n_rounds, true_theta, noise)\n\u001b[1;32m     97\u001b[0m \u001b[38;5;28;01mfor\u001b[39;00m t \u001b[38;5;129;01min\u001b[39;00m \u001b[38;5;28mrange\u001b[39m(\u001b[38;5;241m1\u001b[39m, n_rounds \u001b[38;5;241m+\u001b[39m \u001b[38;5;241m1\u001b[39m):\n\u001b[1;32m     98\u001b[0m     \u001b[38;5;66;03m# Picking up the best action based on theta_hat\u001b[39;00m\n\u001b[0;32m---> 99\u001b[0m     arm_chosen \u001b[38;5;241m=\u001b[39m \u001b[43mlinucb\u001b[49m\u001b[38;5;241;43m.\u001b[39;49m\u001b[43mchoose_action\u001b[49m\u001b[43m(\u001b[49m\u001b[43mt\u001b[49m\u001b[43m)\u001b[49m\n\u001b[1;32m    101\u001b[0m     \u001b[38;5;66;03m# Reward received based on the action taken\u001b[39;00m\n\u001b[1;32m    102\u001b[0m     expected_reward, reward_with_noise \u001b[38;5;241m=\u001b[39m environment\u001b[38;5;241m.\u001b[39mobserve_reward(t, arm_chosen)\n",
      "File \u001b[0;32m~/Documents/EPFL/BachelorProject/Bandits/stochastic-linear-bandits/linear_bandits_algorithms.py:31\u001b[0m, in \u001b[0;36mLinUCB.choose_action\u001b[0;34m(self, curr_round)\u001b[0m\n\u001b[1;32m     27\u001b[0m \u001b[38;5;28;01mfor\u001b[39;00m i \u001b[38;5;129;01min\u001b[39;00m \u001b[38;5;28mrange\u001b[39m(\u001b[38;5;28mself\u001b[39m\u001b[38;5;241m.\u001b[39mn_arms):\n\u001b[1;32m     28\u001b[0m     \u001b[38;5;66;03m# Compute the UCB for each arm using the given formula\u001b[39;00m\n\u001b[1;32m     29\u001b[0m     estimated_value \u001b[38;5;241m=\u001b[39m \u001b[38;5;28mself\u001b[39m\u001b[38;5;241m.\u001b[39mtheta_hat[:, curr_round \u001b[38;5;241m-\u001b[39m \u001b[38;5;241m1\u001b[39m]\u001b[38;5;241m.\u001b[39mT \u001b[38;5;241m@\u001b[39m \u001b[38;5;28mself\u001b[39m\u001b[38;5;241m.\u001b[39mitem_features[:, i]\n\u001b[1;32m     30\u001b[0m     penalty_value \u001b[38;5;241m=\u001b[39m np\u001b[38;5;241m.\u001b[39msqrt(\u001b[38;5;28mself\u001b[39m\u001b[38;5;241m.\u001b[39mbeta_param_t) \u001b[38;5;241m*\u001b[39m np\u001b[38;5;241m.\u001b[39msqrt(\n\u001b[0;32m---> 31\u001b[0m         \u001b[38;5;28mself\u001b[39m\u001b[38;5;241m.\u001b[39mitem_features[:, i]\u001b[38;5;241m.\u001b[39mT \u001b[38;5;241m@\u001b[39m (\u001b[43mnp\u001b[49m\u001b[38;5;241;43m.\u001b[39;49m\u001b[43mlinalg\u001b[49m\u001b[38;5;241;43m.\u001b[39;49m\u001b[43minv\u001b[49m\u001b[43m(\u001b[49m\u001b[38;5;28;43mself\u001b[39;49m\u001b[38;5;241;43m.\u001b[39;49m\u001b[43mV_t\u001b[49m\u001b[43m)\u001b[49m \u001b[38;5;241m@\u001b[39m \u001b[38;5;28mself\u001b[39m\u001b[38;5;241m.\u001b[39mitem_features[:, i]))\n\u001b[1;32m     32\u001b[0m     value \u001b[38;5;241m=\u001b[39m estimated_value \u001b[38;5;241m+\u001b[39m penalty_value\n\u001b[1;32m     33\u001b[0m     \u001b[38;5;28;01mif\u001b[39;00m value \u001b[38;5;241m>\u001b[39m\u001b[38;5;241m=\u001b[39m max_value:\n",
      "File \u001b[0;32m<__array_function__ internals>:200\u001b[0m, in \u001b[0;36minv\u001b[0;34m(*args, **kwargs)\u001b[0m\n",
      "File \u001b[0;32m/Library/Python/3.9/site-packages/numpy/linalg/linalg.py:538\u001b[0m, in \u001b[0;36minv\u001b[0;34m(a)\u001b[0m\n\u001b[1;32m    536\u001b[0m signature \u001b[38;5;241m=\u001b[39m \u001b[38;5;124m'\u001b[39m\u001b[38;5;124mD->D\u001b[39m\u001b[38;5;124m'\u001b[39m \u001b[38;5;28;01mif\u001b[39;00m isComplexType(t) \u001b[38;5;28;01melse\u001b[39;00m \u001b[38;5;124m'\u001b[39m\u001b[38;5;124md->d\u001b[39m\u001b[38;5;124m'\u001b[39m\n\u001b[1;32m    537\u001b[0m extobj \u001b[38;5;241m=\u001b[39m get_linalg_error_extobj(_raise_linalgerror_singular)\n\u001b[0;32m--> 538\u001b[0m ainv \u001b[38;5;241m=\u001b[39m \u001b[43m_umath_linalg\u001b[49m\u001b[38;5;241;43m.\u001b[39;49m\u001b[43minv\u001b[49m\u001b[43m(\u001b[49m\u001b[43ma\u001b[49m\u001b[43m,\u001b[49m\u001b[43m \u001b[49m\u001b[43msignature\u001b[49m\u001b[38;5;241;43m=\u001b[39;49m\u001b[43msignature\u001b[49m\u001b[43m,\u001b[49m\u001b[43m \u001b[49m\u001b[43mextobj\u001b[49m\u001b[38;5;241;43m=\u001b[39;49m\u001b[43mextobj\u001b[49m\u001b[43m)\u001b[49m\n\u001b[1;32m    539\u001b[0m \u001b[38;5;28;01mreturn\u001b[39;00m wrap(ainv\u001b[38;5;241m.\u001b[39mastype(result_t, copy\u001b[38;5;241m=\u001b[39m\u001b[38;5;28;01mFalse\u001b[39;00m))\n",
      "\u001b[0;31mKeyboardInterrupt\u001b[0m: "
     ]
    }
   ],
   "source": [
    "# Running the algorithm\n",
    "regrets_10_features = run_lin_ucb_average(n_simulations, n_arms, n_features, item_features, n_rounds, true_theta, noise, lambda_param)"
   ]
  },
  {
   "cell_type": "code",
   "execution_count": null,
   "id": "f91c84fa",
   "metadata": {
    "ExecuteTime": {
     "end_time": "2023-04-17T13:24:13.241455Z",
     "start_time": "2023-04-17T13:24:13.182669Z"
    }
   },
   "outputs": [],
   "source": [
    "# Plotting the cumulative regret\n",
    "plot_regret(regrets)"
   ]
  },
  {
   "cell_type": "markdown",
   "id": "4f3e28cb",
   "metadata": {},
   "source": [
    "### 50 features"
   ]
  },
  {
   "cell_type": "code",
   "execution_count": null,
   "id": "8697aaf1",
   "metadata": {
    "ExecuteTime": {
     "end_time": "2023-04-17T13:24:13.249791Z",
     "start_time": "2023-04-17T13:24:13.244192Z"
    }
   },
   "outputs": [],
   "source": [
    "# Setting up parameters for the runs\n",
    "n_arms = 100\n",
    "n_features = 50\n",
    "item_features = np.random.uniform(low=-1, high=1, size=(n_features, n_arms))\n",
    "true_theta = np.random.uniform(low=-1, high=1, size=(n_features, 1))\n",
    "\n",
    "n_rounds = 1000\n",
    "noise = 0.1  # 0.1 -> can lead to negative regret since the reward could be the optimal + some noise\n",
    "lambda_param = 0.5\n",
    "\n",
    "n_simulations = 50"
   ]
  },
  {
   "cell_type": "code",
   "execution_count": null,
   "id": "2a0ba56f",
   "metadata": {
    "ExecuteTime": {
     "end_time": "2023-04-16T14:13:42.957696Z",
     "start_time": "2023-04-16T14:11:32.394023Z"
    }
   },
   "outputs": [],
   "source": [
    "# Running the algorithm\n",
    "regrets = run_lin_ucb_average(n_simulations, n_arms, n_features, item_features, n_rounds, true_theta, noise, lambda_param)"
   ]
  },
  {
   "cell_type": "code",
   "execution_count": null,
   "id": "8abbc5ba",
   "metadata": {},
   "outputs": [],
   "source": [
    "# Plotting the cumulative regret\n",
    "plot_regret(regrets)"
   ]
  },
  {
   "cell_type": "markdown",
   "id": "e9ad5d1c",
   "metadata": {},
   "source": [
    "### 100 features"
   ]
  },
  {
   "cell_type": "code",
   "execution_count": null,
   "id": "67950094",
   "metadata": {
    "ExecuteTime": {
     "end_time": "2023-04-16T14:13:42.972413Z",
     "start_time": "2023-04-16T14:13:42.968577Z"
    }
   },
   "outputs": [],
   "source": [
    "# Setting up parameters for the runs\n",
    "n_arms = 100\n",
    "n_features = 100\n",
    "item_features = np.random.uniform(low=-1, high=1, size=(n_features, n_arms))\n",
    "true_theta = np.random.uniform(low=-1, high=1, size=(n_features, 1))\n",
    "\n",
    "n_rounds = 1000\n",
    "noise = 0.1  # 0.1 -> can lead to negative regret since the reward could be the optimal + some noise\n",
    "lambda_param = 0.5\n",
    "\n",
    "n_simulations = 100"
   ]
  },
  {
   "cell_type": "code",
   "execution_count": null,
   "id": "5791f857",
   "metadata": {
    "ExecuteTime": {
     "end_time": "2023-04-16T14:19:40.491739Z",
     "start_time": "2023-04-16T14:13:42.975501Z"
    }
   },
   "outputs": [],
   "source": [
    "# Running the algorithm\n",
    "regrets = run_lin_ucb_average(n_simulations, n_arms, n_features, item_features, n_rounds, true_theta, noise, lambda_param)"
   ]
  },
  {
   "cell_type": "code",
   "execution_count": null,
   "id": "a90138e0",
   "metadata": {},
   "outputs": [],
   "source": [
    "# Plotting the cumulative regret\n",
    "plot_regret(regrets)"
   ]
  },
  {
   "cell_type": "markdown",
   "id": "5174e6ce",
   "metadata": {},
   "source": [
    "### Varying the number of features\n",
    "\n",
    "By keeping the number of arms the same: 100 arms"
   ]
  },
  {
   "cell_type": "markdown",
   "id": "b02f3a4c",
   "metadata": {
    "ExecuteTime": {
     "end_time": "2023-04-16T15:52:15.799770Z",
     "start_time": "2023-04-16T15:52:15.790379Z"
    }
   },
   "source": [
    "## Varying lambda\n",
    "\n",
    "### lambda = 0.5"
   ]
  },
  {
   "cell_type": "code",
   "execution_count": null,
   "id": "d0a0ce41",
   "metadata": {},
   "outputs": [],
   "source": []
  },
  {
   "cell_type": "code",
   "execution_count": null,
   "id": "89bfb339",
   "metadata": {},
   "outputs": [],
   "source": []
  },
  {
   "cell_type": "code",
   "execution_count": null,
   "id": "628a7d7a",
   "metadata": {},
   "outputs": [],
   "source": []
  }
 ],
 "metadata": {
  "kernelspec": {
   "display_name": "Python 3 (ipykernel)",
   "language": "python",
   "name": "python3"
  },
  "language_info": {
   "codemirror_mode": {
    "name": "ipython",
    "version": 3
   },
   "file_extension": ".py",
   "mimetype": "text/x-python",
   "name": "python",
   "nbconvert_exporter": "python",
   "pygments_lexer": "ipython3",
   "version": "3.9.6"
  }
 },
 "nbformat": 4,
 "nbformat_minor": 5
}
